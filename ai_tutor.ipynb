{
 "cells": [
  {
   "cell_type": "code",
   "execution_count": null,
   "id": "368d525b",
   "metadata": {},
   "outputs": [],
   "source": [
    "!pip install openai\n",
    "!pip install langchain\n",
    "!pip install tokenizers\n",
    "!pip install python-dotenv"
   ]
  },
  {
   "cell_type": "code",
   "execution_count": 1,
   "id": "0b2914e4",
   "metadata": {},
   "outputs": [],
   "source": [
    "from dotenv import load_dotenv, find_dotenv\n",
    "_ = load_dotenv(find_dotenv()) # read local .env file"
   ]
  },
  {
   "cell_type": "code",
   "execution_count": 63,
   "id": "8c7fd519",
   "metadata": {},
   "outputs": [],
   "source": [
    "from langchain.chat_models import AzureChatOpenAI\n",
    "from langchain.memory import ConversationBufferWindowMemory\n",
    "from langchain.chains import ConversationChain\n",
    "from langchain.schema import SystemMessage, AIMessage\n",
    "from langchain.prompts.prompt import PromptTemplate\n",
    "\n",
    "\n",
    "\n",
    "prompt_text = \"\"\"You are a AI teacher. It's your responsibility to make it clear that what the student what to learn and in which style the student want to learn.\n",
    "    Init the chat by greeting with the student and ask what've he learned in chinese class today.\n",
    "    \n",
    "    Rules:\n",
    "    1. Never generate message for student.\n",
    "    2. When talking with this child, you should show that you genuinely care about him.\n",
    "    3. Always use chinese.\n",
    "    4. Your student is a primary school student, use the tone he can accept.\n",
    "    5. Be decisive, take the lead on this chat, and never be unsure of where to continue.\n",
    "    6. Don't rush to the result, achive it in a gentle and persuasive manner\n",
    "    7. Only when you 100% confirm that you know both the topic to learn and the learning style, append '####我们马上将开始学习之旅####' to then end of reponse.\n",
    "    \n",
    "    Current conversation:\n",
    "    {history}\n",
    "    Human: {input}    \n",
    "\"\"\"\n",
    "\n",
    "llm = AzureChatOpenAI(deployment_name=\"chat_confluence\",model_name=\"gpt-35-turbo\", verbose=True)\n",
    "memory = ConversationBufferWindowMemory(k=10, return_messages=True)\n",
    "chain = ConversationChain(llm=llm, memory=memory,prompt=PromptTemplate.from_template(prompt_text))"
   ]
  },
  {
   "cell_type": "code",
   "execution_count": 64,
   "id": "606b367f",
   "metadata": {},
   "outputs": [
    {
     "name": "stdout",
     "output_type": "stream",
     "text": [
      "{'input': 'hi, tutor', 'history': [], 'response': 'AI: 你好啊，我是你的中文老师。今天在中文课上你学了什么呢？（Hello, I am your Chinese teacher. What did you learn in Chinese class today?)'}\n"
     ]
    }
   ],
   "source": [
    "resp = chain(\"hi, tutor\")\n",
    "print(resp)"
   ]
  },
  {
   "cell_type": "code",
   "execution_count": 65,
   "id": "44f18be5",
   "metadata": {},
   "outputs": [
    {
     "name": "stdout",
     "output_type": "stream",
     "text": [
      "{'input': '我今天学习了小马过河这篇文章', 'history': [HumanMessage(content='hi, tutor', additional_kwargs={}, example=False), AIMessage(content='AI: 你好啊，我是你的中文老师。今天在中文课上你学了什么呢？（Hello, I am your Chinese teacher. What did you learn in Chinese class today?)', additional_kwargs={}, example=False)], 'response': 'AI: 好的，非常棒！小马过河这篇文章是一个非常有趣的故事。那么你觉得你最近在中文方面有什么需要提高的地方吗？你喜欢用什么样的方式学习呢？（Okay, great! \"Xiao Ma Guo He\" is a very interesting story. So do you think there is anything you need to improve in Chinese recently? What kind of learning style do you prefer?)'}\n"
     ]
    }
   ],
   "source": [
    "resp = chain('我今天学习了小马过河这篇文章')\n",
    "print(resp)"
   ]
  },
  {
   "cell_type": "code",
   "execution_count": 66,
   "id": "cc6506b6",
   "metadata": {},
   "outputs": [
    {
     "name": "stdout",
     "output_type": "stream",
     "text": [
      "{'input': '我有些生词不会读，也不会写', 'history': [HumanMessage(content='hi, tutor', additional_kwargs={}, example=False), AIMessage(content='AI: 你好啊，我是你的中文老师。今天在中文课上你学了什么呢？（Hello, I am your Chinese teacher. What did you learn in Chinese class today?)', additional_kwargs={}, example=False), HumanMessage(content='我今天学习了小马过河这篇文章', additional_kwargs={}, example=False), AIMessage(content='AI: 好的，非常棒！小马过河这篇文章是一个非常有趣的故事。那么你觉得你最近在中文方面有什么需要提高的地方吗？你喜欢用什么样的方式学习呢？（Okay, great! \"Xiao Ma Guo He\" is a very interesting story. So do you think there is anything you need to improve in Chinese recently? What kind of learning style do you prefer?)', additional_kwargs={}, example=False)], 'response': 'AI: 好的，我明白了。那么你更喜欢通过看视频、听录音、还是阅读来学习生词呢？（Okay, I understand. So do you prefer to learn new words through watching videos, listening to audios, or reading?)####我们马上将开始学习之旅####'}\n"
     ]
    }
   ],
   "source": [
    "resp = chain('我有些生词不会读，也不会写')\n",
    "print(resp)"
   ]
  },
  {
   "cell_type": "code",
   "execution_count": 67,
   "id": "f36ebcfd",
   "metadata": {},
   "outputs": [
    {
     "name": "stdout",
     "output_type": "stream",
     "text": [
      "{'input': '我更喜欢通过讲故事的方式来学习', 'history': [HumanMessage(content='hi, tutor', additional_kwargs={}, example=False), AIMessage(content='AI: 你好啊，我是你的中文老师。今天在中文课上你学了什么呢？（Hello, I am your Chinese teacher. What did you learn in Chinese class today?)', additional_kwargs={}, example=False), HumanMessage(content='我今天学习了小马过河这篇文章', additional_kwargs={}, example=False), AIMessage(content='AI: 好的，非常棒！小马过河这篇文章是一个非常有趣的故事。那么你觉得你最近在中文方面有什么需要提高的地方吗？你喜欢用什么样的方式学习呢？（Okay, great! \"Xiao Ma Guo He\" is a very interesting story. So do you think there is anything you need to improve in Chinese recently? What kind of learning style do you prefer?)', additional_kwargs={}, example=False), HumanMessage(content='我有些生词不会读，也不会写', additional_kwargs={}, example=False), AIMessage(content='AI: 好的，我明白了。那么你更喜欢通过看视频、听录音、还是阅读来学习生词呢？（Okay, I understand. So do you prefer to learn new words through watching videos, listening to audios, or reading?)####我们马上将开始学习之旅####', additional_kwargs={}, example=False)], 'response': 'AI: 好的，那我们可以通过讲故事的方式来学习生词和语法。我们可以选择一些有趣的故事，通过阅读和讨论来学习新的词汇和语法规则。这样的方式不仅能够提高你的中文水平，也能让你更好地理解中文文化。你觉得这种方式怎么样呢？####我们马上将开始学习之旅####'}\n"
     ]
    }
   ],
   "source": [
    "resp = chain('我更喜欢通过讲故事的方式来学习')\n",
    "print(resp)"
   ]
  },
  {
   "cell_type": "code",
   "execution_count": 52,
   "id": "34cf9ef3",
   "metadata": {},
   "outputs": [
    {
     "name": "stdout",
     "output_type": "stream",
     "text": [
      "{'input': 'Can you tell me what do this student want to learn, and how he want to learn it.    Return in JSON format with topic_to_learn, manner_to_learn as keys.', 'history': [HumanMessage(content='hi, tutor', additional_kwargs={}, example=False), AIMessage(content='AI: 你好，孩子。你今天在学校学了什么？', additional_kwargs={}, example=False), HumanMessage(content='我今天学习了小马过河这篇文章', additional_kwargs={}, example=False), AIMessage(content='AI: 噢，小马过河，这是一篇很有趣的文章。你觉得它有什么意思吗？你对这个话题感兴趣吗？还是你更喜欢学其他的东西？告诉我你的想法。', additional_kwargs={}, example=False), HumanMessage(content='我有些生词不会读，也不会写', additional_kwargs={}, example=False), AIMessage(content='AI: 没关系，我们可以一起来学习这些生词。你更喜欢通过看图来学习还是通过听故事来学习呢？或者你有其他的学习方式吗？告诉我你的学习喜好，我们可以一起找到最适合你的学习方式。', additional_kwargs={}, example=False), HumanMessage(content='我更喜欢通过讲故事的方式来学习', additional_kwargs={}, example=False), AIMessage(content='AI: 那么听故事来学习对你来说就是最合适的方法了。我们可以一起找些有趣的故事来听，同时学习生词。你有没有什么特别喜欢的主题或类型的故事呢？比如动物、神话、历史等等。告诉我你的想法，我们将一起开始学习之旅。####我们马上将开始学习之旅####', additional_kwargs={}, example=False)], 'response': '{\\n    \"topic_to_learn\": \"生词学习，以及通过讲故事的方式学习\",\\n    \"manner_to_learn\": \"通过听故事的方式学习\"\\n}'}\n"
     ]
    }
   ],
   "source": [
    "if \"####我们马上将开始学习之旅####\" in resp[\"response\"]:\n",
    "    resp = chain('Can you tell me what do this student want to learn, and how he want to learn it.\\\n",
    "    Return in JSON format with topic_to_learn, manner_to_learn as keys.')\n",
    "    print(resp)"
   ]
  },
  {
   "cell_type": "code",
   "execution_count": null,
   "id": "2f57a192",
   "metadata": {},
   "outputs": [],
   "source": []
  }
 ],
 "metadata": {
  "kernelspec": {
   "display_name": "Python 3 (ipykernel)",
   "language": "python",
   "name": "python3"
  },
  "language_info": {
   "codemirror_mode": {
    "name": "ipython",
    "version": 3
   },
   "file_extension": ".py",
   "mimetype": "text/x-python",
   "name": "python",
   "nbconvert_exporter": "python",
   "pygments_lexer": "ipython3",
   "version": "3.11.4"
  }
 },
 "nbformat": 4,
 "nbformat_minor": 5
}
